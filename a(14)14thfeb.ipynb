{
 "cells": [
  {
   "cell_type": "markdown",
   "id": "f9b5ff57-b996-4052-aaa5-fa532efa9c13",
   "metadata": {},
   "source": [
    "# Quetion : 1"
   ]
  },
  {
   "cell_type": "markdown",
   "id": "371e9795-81a0-4f84-b63b-984273731c93",
   "metadata": {},
   "source": [
    "Multithreading in Python is the ability to run multiple threads concurrently. Threads are lightweight processes that can run independently of other threads. They are used to improve the performance of applications by allowing them to run multiple tasks at the same time. The module used to handle threads in Python is the threading module. This module provides a simple and powerful way to create and manage threads in Python."
   ]
  },
  {
   "cell_type": "markdown",
   "id": "c568f0ee-b3be-45c1-be78-676f49e7b185",
   "metadata": {},
   "source": [
    "# Quetion : 2"
   ]
  },
  {
   "cell_type": "markdown",
   "id": "a218ee93-d71f-4baf-a1df-f1f65e348e9e",
   "metadata": {},
   "source": [
    "The threading module in Python is used for creating and managing threads in a program. Threads allow the execution of multiple tasks or processes concurrently. The threading module provides a way to create and manage threads in a more efficient and convenient way.\n",
    "\n",
    "Here are the use cases for the following functions in the threading module:\n",
    "\n",
    "activeCount(): This function is used to get the number of active threads in the current program. It returns the number of threads that are currently alive, including the main thread. This function can be useful for monitoring the state of the program and checking if all threads have completed their tasks.\n",
    "\n",
    "currentThread(): This function returns the current thread object. The thread object represents the thread from which this function is called. This function can be used to get information about the current thread, such as its name or ID.\n",
    "\n",
    "enumerate(): This function returns a list of all the thread objects that are currently alive. It is useful for iterating over all the threads in a program and performing some operation on them. This function can be used to get information about each thread, such as its name, ID, or state."
   ]
  },
  {
   "cell_type": "markdown",
   "id": "54148877-539d-4398-b436-71060f1289d8",
   "metadata": {},
   "source": [
    "# Quetion : 3"
   ]
  },
  {
   "cell_type": "markdown",
   "id": "052fd01e-0dac-4f2b-98c9-11a0d88ef3fb",
   "metadata": {},
   "source": [
    "run() method is an inbuilt method of the Thread class of the threading module in Python. This method is used to represent a thread's activity. It calls the method expressed as the target argument in the Thread object along with the positional and keyword arguments taken from the args and kwargs arguments, respectively"
   ]
  },
  {
   "cell_type": "markdown",
   "id": "0e06627b-27e5-49dc-955e-bc9b555a71ad",
   "metadata": {},
   "source": [
    "The start() function will return immediately and the operating system will execute the function in a separate process as soon as it is able. A new instance of the Python interrupter will be created and a new thread within the new process will be created to execute our target function. And that's all there is to it"
   ]
  },
  {
   "cell_type": "markdown",
   "id": "fa4b5a81-3c53-48a3-952b-084446ae2697",
   "metadata": {},
   "source": [
    "It is a join() method used in the thread class to halt the main thread's execution and waits till the complete execution of the thread object. When the thread object is completed, it starts the execution of the main thread in Python."
   ]
  },
  {
   "cell_type": "markdown",
   "id": "77b1d5d1-df78-454b-9f1b-8fe2ca74aef6",
   "metadata": {},
   "source": [
    "It is used to check if a thread is alive or not. Alive refers to a thread that has begun but not been terminated yet. When the run method is called, the thread operates for a specific period of time after which it stops executing"
   ]
  },
  {
   "cell_type": "markdown",
   "id": "a8aff172-2797-44ca-9ba7-2fbc2077caee",
   "metadata": {},
   "source": [
    "# Quetion : 4"
   ]
  },
  {
   "cell_type": "code",
   "execution_count": 1,
   "id": "a9825e1d-451e-4c0d-9bd7-6030d36abbb7",
   "metadata": {},
   "outputs": [
    {
     "name": "stdout",
     "output_type": "stream",
     "text": [
      "1 squared is 1\n",
      "2 squared is 4\n",
      "3 squared is 9\n",
      "4 squared is 16\n",
      "5 squared is 25\n",
      "6 squared is 36\n",
      "7 squared is 49\n",
      "8 squared is 64\n",
      "9 squared is 81\n",
      "10 squared is 100\n",
      "1 cubed is 1\n",
      "2 cubed is 8\n",
      "3 cubed is 27\n",
      "4 cubed is 64\n",
      "5 cubed is 125\n",
      "6 cubed is 216\n",
      "7 cubed is 343\n",
      "8 cubed is 512\n",
      "9 cubed is 729\n",
      "10 cubed is 1000\n"
     ]
    }
   ],
   "source": [
    "import threading\n",
    "\n",
    "def print_squares():\n",
    "    for i in range(1, 11):\n",
    "        print(f\"{i} squared is {i*i}\")\n",
    "\n",
    "def print_cubes():\n",
    "    for i in range(1, 11):\n",
    "        print(f\"{i} cubed is {i*i*i}\")\n",
    "\n",
    "if __name__ == \"__main__\":\n",
    "    thread1 = threading.Thread(target=print_squares)\n",
    "    thread2 = threading.Thread(target=print_cubes)\n",
    "\n",
    "    thread1.start()\n",
    "    thread2.start()\n",
    "\n",
    "    thread1.join()\n",
    "    thread2.join()"
   ]
  },
  {
   "cell_type": "markdown",
   "id": "209e786f-a74b-45b5-aacf-693c68698b1b",
   "metadata": {},
   "source": [
    "# Quetion : 5"
   ]
  },
  {
   "cell_type": "markdown",
   "id": "f6a9c631-1ed2-44d4-93b5-20d0bd9e0b87",
   "metadata": {},
   "source": [
    "Disadvantages :\n",
    "\n",
    "There are a few overheads associated with managing multiple threads and you would not use multithreading for basic tasks like in the example above.\n",
    "\n",
    "While multithreading simplifies tasks, it can make debugging more difficult and increase the complexity of the program."
   ]
  },
  {
   "cell_type": "markdown",
   "id": "aec844b3-2ba5-40c4-b10f-4a95d5bf524a",
   "metadata": {},
   "source": [
    "Advantages :\n",
    "    \n",
    "Threads minimize the context switching time.\n",
    "\n",
    "Use of threads provides concurrency within a process.\n",
    "\n",
    "Efficient communication.\n",
    "\n",
    "It is more economical to create and context switch threads.\n",
    "\n",
    "Threads allow utilization of multiprocessor architectures to a greater scale and efficiency.    "
   ]
  },
  {
   "cell_type": "markdown",
   "id": "2b109bc1-fbf5-4017-b89a-9731af1285f8",
   "metadata": {},
   "source": [
    "# Quetion : 6"
   ]
  },
  {
   "cell_type": "markdown",
   "id": "f24ffff5-6fab-4ec9-bcbf-7ee750b9deda",
   "metadata": {},
   "source": [
    "In this case, both threads will wait indefinitely for the resource held by the other thread. These threads are said to be deadlocked. Race conditions occur when two threads interact in a negatve (buggy) way depending on the exact order that their different instructions are executed"
   ]
  },
  {
   "cell_type": "code",
   "execution_count": null,
   "id": "6cf85a9a-830c-41eb-aa07-a63330237bb8",
   "metadata": {},
   "outputs": [],
   "source": []
  }
 ],
 "metadata": {
  "kernelspec": {
   "display_name": "Python 3 (ipykernel)",
   "language": "python",
   "name": "python3"
  },
  "language_info": {
   "codemirror_mode": {
    "name": "ipython",
    "version": 3
   },
   "file_extension": ".py",
   "mimetype": "text/x-python",
   "name": "python",
   "nbconvert_exporter": "python",
   "pygments_lexer": "ipython3",
   "version": "3.10.8"
  }
 },
 "nbformat": 4,
 "nbformat_minor": 5
}
